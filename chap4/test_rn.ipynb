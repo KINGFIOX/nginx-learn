{
 "cells": [
  {
   "cell_type": "code",
   "execution_count": 1,
   "metadata": {},
   "outputs": [],
   "source": [
    "def check_newline_character():\n",
    "    with open(\"test.txt\", \"rb\") as f:\n",
    "        content = f.read()\n",
    "        if b\"\\r\\n\" in content:\n",
    "            print(\"The newline character is '\\\\r\\\\n'\")\n",
    "        elif b\"\\n\" in content:\n",
    "            print(\"The newline character is '\\\\n'\")\n",
    "        elif b\"\\r\" in content:\n",
    "            print(\"The newline character is '\\\\r'\")\n",
    "        else:\n",
    "            print(\"No newline character found\")"
   ]
  },
  {
   "cell_type": "code",
   "execution_count": 2,
   "metadata": {},
   "outputs": [
    {
     "name": "stdout",
     "output_type": "stream",
     "text": [
      "The newline character is '\\n'\n"
     ]
    }
   ],
   "source": [
    "check_newline_character()"
   ]
  },
  {
   "cell_type": "code",
   "execution_count": null,
   "metadata": {},
   "outputs": [],
   "source": []
  }
 ],
 "metadata": {
  "kernelspec": {
   "display_name": "base",
   "language": "python",
   "name": "python3"
  },
  "language_info": {
   "codemirror_mode": {
    "name": "ipython",
    "version": 3
   },
   "file_extension": ".py",
   "mimetype": "text/x-python",
   "name": "python",
   "nbconvert_exporter": "python",
   "pygments_lexer": "ipython3",
   "version": "3.10.12"
  }
 },
 "nbformat": 4,
 "nbformat_minor": 2
}
